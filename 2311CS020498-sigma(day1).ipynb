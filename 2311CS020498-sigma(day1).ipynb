{
 "cells": [
  {
   "cell_type": "code",
   "execution_count": 1,
   "id": "346bb8bb",
   "metadata": {},
   "outputs": [
    {
     "name": "stdout",
     "output_type": "stream",
     "text": [
      "Integer variable: 10, Type: <class 'int'>\n",
      "Float variable: 20.5, Type: <class 'float'>\n",
      "String variable: Hello, World!, Type: <class 'str'>\n",
      "Boolean variable: True, Type: <class 'bool'>\n"
     ]
    }
   ],
   "source": [
    "# Declare variables of different data types\n",
    "int_variable = 10               # Integer\n",
    "float_variable = 20.5           # Float\n",
    "string_variable = \"Hello, World!\"  # String\n",
    "bool_variable = True            # Boolean\n",
    "\n",
    "# Print each variable and its type\n",
    "print(f\"Integer variable: {int_variable}, Type: {type(int_variable)}\")\n",
    "print(f\"Float variable: {float_variable}, Type: {type(float_variable)}\")\n",
    "print(f\"String variable: {string_variable}, Type: {type(string_variable)}\")\n",
    "print(f\"Boolean variable: {bool_variable}, Type: {type(bool_variable)}\")\n"
   ]
  },
  {
   "cell_type": "code",
   "execution_count": null,
   "id": "37ccd9d6",
   "metadata": {},
   "outputs": [],
   "source": []
  }
 ],
 "metadata": {
  "kernelspec": {
   "display_name": "Python 3 (ipykernel)",
   "language": "python",
   "name": "python3"
  },
  "language_info": {
   "codemirror_mode": {
    "name": "ipython",
    "version": 3
   },
   "file_extension": ".py",
   "mimetype": "text/x-python",
   "name": "python",
   "nbconvert_exporter": "python",
   "pygments_lexer": "ipython3",
   "version": "3.11.5"
  }
 },
 "nbformat": 4,
 "nbformat_minor": 5
}
