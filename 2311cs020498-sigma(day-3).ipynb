{
 "cells": [
  {
   "cell_type": "code",
   "execution_count": 1,
   "id": "5a477629",
   "metadata": {},
   "outputs": [
    {
     "name": "stdout",
     "output_type": "stream",
     "text": [
      "Enter marks for subject 1: 54\n",
      "Enter marks for subject 2: 78\n",
      "Enter marks for subject 3: 98\n",
      "Average: 76.67\n",
      "Grade: C\n"
     ]
    }
   ],
   "source": [
    "def calculate_grade():\n",
    "    try:\n",
    "        # Input marks for three subjects\n",
    "        marks1 = float(input(\"Enter marks for subject 1: \"))\n",
    "        marks2 = float(input(\"Enter marks for subject 2: \"))\n",
    "        marks3 = float(input(\"Enter marks for subject 3: \"))\n",
    "\n",
    "        # Calculate the average\n",
    "        average = (marks1 + marks2 + marks3) / 3\n",
    "\n",
    "        # Determine the grade\n",
    "        if average >= 90:\n",
    "            grade = \"A\"\n",
    "        elif 80 <= average < 90:\n",
    "            grade = \"B\"\n",
    "        elif 70 <= average < 80:\n",
    "            grade = \"C\"\n",
    "        else:\n",
    "            grade = \"Fail\"\n",
    "\n",
    "        # Print the result\n",
    "        print(f\"Average: {average:.2f}\")\n",
    "        print(f\"Grade: {grade}\")\n",
    "    except ValueError:\n",
    "        print(\"Invalid input. Please enter numeric values for marks.\")\n",
    "\n",
    "# Call the function\n",
    "calculate_grade()\n"
   ]
  },
  {
   "cell_type": "code",
   "execution_count": null,
   "id": "c113d3f0",
   "metadata": {},
   "outputs": [],
   "source": []
  }
 ],
 "metadata": {
  "kernelspec": {
   "display_name": "Python 3 (ipykernel)",
   "language": "python",
   "name": "python3"
  },
  "language_info": {
   "codemirror_mode": {
    "name": "ipython",
    "version": 3
   },
   "file_extension": ".py",
   "mimetype": "text/x-python",
   "name": "python",
   "nbconvert_exporter": "python",
   "pygments_lexer": "ipython3",
   "version": "3.11.5"
  }
 },
 "nbformat": 4,
 "nbformat_minor": 5
}
