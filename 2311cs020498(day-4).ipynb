{
 "cells": [
  {
   "cell_type": "code",
   "execution_count": 1,
   "id": "9a027a0b",
   "metadata": {},
   "outputs": [
    {
     "name": "stdout",
     "output_type": "stream",
     "text": [
      "Enter a positive integer: 5\n",
      "The sum of all even numbers between 1 and 5 is: 6\n"
     ]
    }
   ],
   "source": [
    "def sum_of_evens(n):\n",
    "    \"\"\"\n",
    "    Calculate the sum of all even numbers between 1 and n.\n",
    "\n",
    "    Parameters:\n",
    "        n (int): The upper limit for the range (inclusive).\n",
    "\n",
    "    Returns:\n",
    "        int: The sum of all even numbers between 1 and n.\n",
    "    \"\"\"\n",
    "    if n < 1:\n",
    "        return 0\n",
    "\n",
    "    # Initialize the sum to 0\n",
    "    total = 0\n",
    "\n",
    "    # Loop through all numbers from 1 to n\n",
    "    for num in range(1, n + 1):\n",
    "        if num % 2 == 0:\n",
    "            total += num\n",
    "\n",
    "    return total\n",
    "\n",
    "# Get user input\n",
    "try:\n",
    "    n = int(input(\"Enter a positive integer: \"))\n",
    "    if n < 1:\n",
    "        print(\"Please enter a positive integer.\")\n",
    "    else:\n",
    "        result = sum_of_evens(n)\n",
    "        print(f\"The sum of all even numbers between 1 and {n} is: {result}\")\n",
    "except ValueError:\n",
    "    print(\"Invalid input. Please enter a positive integer.\")\n"
   ]
  },
  {
   "cell_type": "code",
   "execution_count": null,
   "id": "c638bafb",
   "metadata": {},
   "outputs": [],
   "source": []
  }
 ],
 "metadata": {
  "kernelspec": {
   "display_name": "Python 3 (ipykernel)",
   "language": "python",
   "name": "python3"
  },
  "language_info": {
   "codemirror_mode": {
    "name": "ipython",
    "version": 3
   },
   "file_extension": ".py",
   "mimetype": "text/x-python",
   "name": "python",
   "nbconvert_exporter": "python",
   "pygments_lexer": "ipython3",
   "version": "3.11.5"
  }
 },
 "nbformat": 4,
 "nbformat_minor": 5
}
