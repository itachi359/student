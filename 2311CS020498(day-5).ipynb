{
 "cells": [
  {
   "cell_type": "code",
   "execution_count": 1,
   "id": "a8d20b8e",
   "metadata": {},
   "outputs": [
    {
     "name": "stdout",
     "output_type": "stream",
     "text": [
      "Enter a positive integer n: 4\n",
      "Numbers from 1 to 4 :\n",
      "1\n",
      "2\n",
      "3\n",
      "4\n",
      "The sum of numbers from 1 to 4 is: 10\n"
     ]
    }
   ],
   "source": [
    "# Program 1: Printing numbers from 1 to n and calculating the sum using loops\n",
    "\n",
    "# Step 1: Ask the user to enter a positive integer n\n",
    "n = int(input(\"Enter a positive integer n: \"))\n",
    "\n",
    "# Step 2: Use a for loop to print all numbers from 1 to n on separate lines\n",
    "print(\"Numbers from 1 to\", n, \":\")\n",
    "for i in range(1, n + 1):\n",
    "    print(i)\n",
    "\n",
    "# Step 3: Use a while loop to calculate the sum of all numbers from 1 to n\n",
    "total_sum = 0\n",
    "i = 1\n",
    "while i <= n:\n",
    "    total_sum += i\n",
    "    i += 1\n",
    "\n",
    "print(\"The sum of numbers from 1 to\", n, \"is:\", total_sum)\n"
   ]
  },
  {
   "cell_type": "code",
   "execution_count": 2,
   "id": "2db133cc",
   "metadata": {},
   "outputs": [
    {
     "name": "stdout",
     "output_type": "stream",
     "text": [
      "Enter a positive integer: 78\n",
      "The square of 78 is: 6084\n"
     ]
    }
   ],
   "source": [
    "# Program 2: Function to calculate the square of a number\n",
    "\n",
    "# Step 1: Define a function to calculate the square of a number\n",
    "def calculate_square(n):\n",
    "    return n ** 2\n",
    "\n",
    "# Step 2: Ask the user to input a positive integer\n",
    "number = int(input(\"Enter a positive integer: \"))\n",
    "\n",
    "# Step 3: Call the calculate_square function and display the result\n",
    "square = calculate_square(number)\n",
    "print(f\"The square of {number} is: {square}\")\n"
   ]
  },
  {
   "cell_type": "code",
   "execution_count": null,
   "id": "69730a90",
   "metadata": {},
   "outputs": [],
   "source": []
  }
 ],
 "metadata": {
  "kernelspec": {
   "display_name": "Python 3 (ipykernel)",
   "language": "python",
   "name": "python3"
  },
  "language_info": {
   "codemirror_mode": {
    "name": "ipython",
    "version": 3
   },
   "file_extension": ".py",
   "mimetype": "text/x-python",
   "name": "python",
   "nbconvert_exporter": "python",
   "pygments_lexer": "ipython3",
   "version": "3.11.5"
  }
 },
 "nbformat": 4,
 "nbformat_minor": 5
}
